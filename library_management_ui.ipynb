{
 "cells": [
  {
   "metadata": {},
   "cell_type": "markdown",
   "source": [
    "# Library Management System\n",
    "\n",
    "This project demonstrates a Flask-based Library Management System designed with an attractive user interface. The system allows managing books, members, and loans with ease. Key features include adding/removing books, handling member information, and managing loan records.\n",
    "\n",
    "Features:\n",
    "- Add, remove, and search books\n",
    "- Manage member information\n",
    "- Track book loans and returns\n",
    "- Smooth navigation with Bootstrap"
   ],
   "id": "7a3fc30ebaca5eb2"
  },
  {
   "metadata": {},
   "cell_type": "code",
   "outputs": [],
   "execution_count": null,
   "source": [
    "# Install the required libraries\n",
    "!pip install flask flask-bootstrap"
   ],
   "id": "add7e3180f499fc9"
  },
  {
   "metadata": {},
   "cell_type": "markdown",
   "source": [
    "### Project Structure\n",
    "The project follows this folder structure:"
   ],
   "id": "2e9a1d646133dc13"
  },
  {
   "metadata": {},
   "cell_type": "markdown",
   "source": [
    "library_management/\n",
    "    ├── app.py\n",
    "    ├── library.py\n",
    "    ├── templates/\n",
    "    │   ├── base.html\n",
    "    │   ├── index.html\n",
    "    │   ├── books.html\n",
    "    ├── static/\n",
    "    │   ├── css/\n",
    "    │   │   ├── style.css\n",
    "    │   ├── js/"
   ],
   "id": "8fc433994c9c8f49"
  },
  {
   "metadata": {},
   "cell_type": "code",
   "outputs": [],
   "execution_count": null,
   "source": [
    "# Create required project folders\n",
    "import os\n",
    "\n",
    "folders = ['templates', 'static/css', 'static/js']\n",
    "for folder in folders:\n",
    "    os.makedirs(folder, exist_ok=True)\n",
    "print(\"Folders created successfully!\")"
   ],
   "id": "603fc5afabc00c4f"
  },
  {
   "metadata": {},
   "cell_type": "code",
   "outputs": [],
   "execution_count": null,
   "source": [
    "# Basic Flask Setup (app.py)\n",
    "from flask import Flask, render_template\n",
    "\n",
    "app = Flask(__name__)\n",
    "\n",
    "@app.route('/')\n",
    "def index():\n",
    "    return render_template('index.html')\n",
    "\n",
    "@app.route('/books')\n",
    "def books():\n",
    "    return render_template('books.html')\n",
    "\n",
    "@app.route('/loans')\n",
    "def loans():\n",
    "    return 'Loan Management Page'\n",
    "\n",
    "if __name__ == '__main__':\n",
    "    app.run(debug=True)"
   ],
   "id": "bfc04a4b1f3ac648"
  },
  {
   "metadata": {},
   "cell_type": "markdown",
   "source": [
    "<!-- base.html -->\n",
    "<!DOCTYPE html>\n",
    "<html lang=\"en\">\n",
    "<head>\n",
    "    <meta charset=\"UTF-8\">\n",
    "    <meta name=\"viewport\" content=\"width=device-width, initial-scale=1.0\">\n",
    "    <link rel=\"stylesheet\" href=\"{{ url_for('static', filename='css/style.css') }}\">\n",
    "    <title>Library Management System</title>\n",
    "</head>\n",
    "<body>\n",
    "    <nav>\n",
    "        <!-- Navigation bar -->\n",
    "    </nav>\n",
    "    <div class=\"container\">\n",
    "        {% block content %}{% endblock %}\n",
    "    </div>\n",
    "</body>\n",
    "</html>"
   ],
   "id": "600d9aede7c2a491"
  },
  {
   "metadata": {},
   "cell_type": "markdown",
   "source": [
    "<!-- index.html -->\n",
    "{% extends 'base.html' %}\n",
    "\n",
    "{% block content %}\n",
    "<h1>Welcome to the Library Management System</h1>\n",
    "<a href=\"/books\">View Books</a>\n",
    "<a href=\"/loans\">Manage Loans</a>\n",
    "{% endblock %}"
   ],
   "id": "20b854f075bc7cbd"
  },
  {
   "metadata": {},
   "cell_type": "markdown",
   "source": [
    "<!-- books.html -->\n",
    "{% extends 'base.html' %}\n",
    "\n",
    "{% block content %}\n",
    "<h1>Books</h1>\n",
    "<!-- Add forms and table for managing books -->\n",
    "{% endblock %}"
   ],
   "id": "99c7c8c36252004"
  },
  {
   "metadata": {},
   "cell_type": "markdown",
   "source": [
    "/* style.css */\n",
    "body {\n",
    "    font-family: Arial, sans-serif;\n",
    "    margin: 0;\n",
    "    padding: 0;\n",
    "}\n",
    ".container {\n",
    "    padding: 20px;\n",
    "}"
   ],
   "id": "aa2b26c8b4d5578e"
  },
  {
   "metadata": {},
   "cell_type": "code",
   "outputs": [],
   "execution_count": null,
   "source": [
    "# Forms for Book Management (index.html example integration)\n",
    "# Example integration with `library.py`\n",
    "@app.route('/add_book', methods=['POST'])\n",
    "def add_book():\n",
    "    # Add integration with `library.py` functionality\n",
    "    return \"Book added!\"\n",
    "\n",
    "# Repeat similar for other functionality like search, delete, and update"
   ],
   "id": "ffbf6f98deb566b3"
  },
  {
   "metadata": {},
   "cell_type": "markdown",
   "source": [
    "### Running the Application\n",
    "To run the app, execute the following command:"
   ],
   "id": "164160ebc965182a"
  },
  {
   "metadata": {},
   "cell_type": "markdown",
   "source": "python app.py",
   "id": "d0b776e2e8055aa8"
  },
  {
   "metadata": {},
   "cell_type": "markdown",
   "source": [
    "### Testing and Debugging\n",
    "- Use browser developer tools to debug front-end issues.\n",
    "- Monitor the Flask server logs for backend debugging.\n",
    "- Test edge cases for book searches, member management, and loan tracking."
   ],
   "id": "a9da807eaabf3518"
  },
  {
   "metadata": {},
   "cell_type": "markdown",
   "source": [
    "### Deployment Guide\n",
    "To deploy:\n",
    "- Install required libraries using `pip install -r requirements.txt`\n",
    "- For deployment on Heroku, create a `Procfile` and use `gunicorn`."
   ],
   "id": "37e7c04aa03c4946"
  }
 ],
 "metadata": {
  "kernelspec": {
   "display_name": "Python 3",
   "language": "python",
   "name": "python3"
  },
  "language_info": {
   "codemirror_mode": {
    "name": "ipython",
    "version": 2
   },
   "file_extension": ".py",
   "mimetype": "text/x-python",
   "name": "python",
   "nbconvert_exporter": "python",
   "pygments_lexer": "ipython2",
   "version": "2.7.6"
  }
 },
 "nbformat": 4,
 "nbformat_minor": 5
}
